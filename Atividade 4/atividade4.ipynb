{
 "cells": [
  {
   "cell_type": "code",
   "execution_count": 384,
   "metadata": {},
   "outputs": [],
   "source": [
    "import numpy as np\n",
    "import matplotlib.pyplot as plt\n",
    "import random"
   ]
  },
  {
   "cell_type": "markdown",
   "metadata": {},
   "source": [
    "### 1. Definindo a função valor"
   ]
  },
  {
   "cell_type": "code",
   "execution_count": 385,
   "metadata": {},
   "outputs": [],
   "source": [
    "acoes = {\n",
    "  0: \"Tomar insulina\",\n",
    "  1: \"Comer\",\n",
    "  2: \"Fazer exercício\"\n",
    "}\n",
    "\n",
    "n_acoes = len(acoes)\n",
    "\n",
    "estados = {\n",
    "  0: \"Glicose baixa\",\n",
    "  1: \"Glicose média\",\n",
    "  2: \"Glicose alta\"\n",
    "}\n",
    "\n",
    "n_estados = len(estados)"
   ]
  },
  {
   "cell_type": "markdown",
   "metadata": {},
   "source": [
    "### 2. Modelando o ambiente"
   ]
  },
  {
   "cell_type": "code",
   "execution_count": 386,
   "metadata": {},
   "outputs": [],
   "source": [
    "class Diabetes:\n",
    "  def __init__(self):\n",
    "    self.state = random.randint(0,2)\n",
    "  \n",
    "  def reset(self):\n",
    "    self.state = random.randint(0,2)\n",
    "    return self.state\n",
    "  \n",
    "  def step(self, action):\n",
    "    # Tomar insulina\n",
    "    if action == 0:\n",
    "      if self.state == 2:\n",
    "        next_state = 1\n",
    "      else:\n",
    "        next_state = 0\n",
    "\n",
    "    # Comer\n",
    "    elif action == 1:\n",
    "      if self.state == 0:\n",
    "        next_state = 1\n",
    "      else:\n",
    "        next_state = 2\n",
    "\n",
    "    # Fazer exercício\n",
    "    elif action == 2:\n",
    "      if self.state == 2:\n",
    "        next_state = 1\n",
    "      else:\n",
    "        next_state = 0\n",
    "\n",
    "    # Recompensa \n",
    "    if self.state == 1:\n",
    "      reward = 20\n",
    "    else: \n",
    "      reward = -5\n",
    "\n",
    "    self.state = next_state\n",
    "    return next_state, reward"
   ]
  },
  {
   "cell_type": "markdown",
   "metadata": {},
   "source": [
    "### 3. Treinamento usando Q-Learning"
   ]
  },
  {
   "cell_type": "code",
   "execution_count": 387,
   "metadata": {},
   "outputs": [
    {
     "name": "stdout",
     "output_type": "stream",
     "text": [
      "Episódio 100/2000 - Recompensa Total: 600 - Epsilon: 0.370\n",
      "Episódio 200/2000 - Recompensa Total: 725 - Epsilon: 0.135\n",
      "Episódio 300/2000 - Recompensa Total: 725 - Epsilon: 0.050\n",
      "Episódio 400/2000 - Recompensa Total: 725 - Epsilon: 0.018\n",
      "Episódio 500/2000 - Recompensa Total: 750 - Epsilon: 0.010\n",
      "Episódio 600/2000 - Recompensa Total: 750 - Epsilon: 0.010\n",
      "Episódio 700/2000 - Recompensa Total: 750 - Epsilon: 0.010\n",
      "Episódio 800/2000 - Recompensa Total: 725 - Epsilon: 0.010\n",
      "Episódio 900/2000 - Recompensa Total: 750 - Epsilon: 0.010\n",
      "Episódio 1000/2000 - Recompensa Total: 725 - Epsilon: 0.010\n",
      "Episódio 1100/2000 - Recompensa Total: 750 - Epsilon: 0.010\n",
      "Episódio 1200/2000 - Recompensa Total: 750 - Epsilon: 0.010\n",
      "Episódio 1300/2000 - Recompensa Total: 725 - Epsilon: 0.010\n",
      "Episódio 1400/2000 - Recompensa Total: 750 - Epsilon: 0.010\n",
      "Episódio 1500/2000 - Recompensa Total: 725 - Epsilon: 0.010\n",
      "Episódio 1600/2000 - Recompensa Total: 750 - Epsilon: 0.010\n",
      "Episódio 1700/2000 - Recompensa Total: 750 - Epsilon: 0.010\n",
      "Episódio 1800/2000 - Recompensa Total: 750 - Epsilon: 0.010\n",
      "Episódio 1900/2000 - Recompensa Total: 750 - Epsilon: 0.010\n",
      "Episódio 2000/2000 - Recompensa Total: 725 - Epsilon: 0.010\n"
     ]
    }
   ],
   "source": [
    "env = Diabetes()\n",
    "def q_learning(alpha=0.1, gamma=0.99, epsilon=1.0, epsilon_decay=0.99):\n",
    "\t# Criando a Q-table\n",
    "\tq_table = np.zeros((n_estados,n_acoes))\n",
    "\n",
    "\tepisodes = 2000\n",
    "\trecompensas = []\n",
    "\tfor episode in range(episodes):\n",
    "\t\tstate = env.reset()\n",
    "\t\ttotal_recompensa = 0\n",
    "  \n",
    "\t\tfor step in range(100):\n",
    "\t\t\t# escolher ação\n",
    "\t\t\tif random.uniform(0, 1) < epsilon:\n",
    "\t\t\t\taction = random.randint(0,2) \n",
    "\t\t\telse:\n",
    "\t\t\t\taction = np.argmax(q_table[state])\n",
    "\n",
    "\t\t\t# realizar ação\n",
    "\t\t\tnext_state, recompensa = env.step(action)\n",
    "\t\t\t\n",
    "\t\t\t# atualizar a Q-table\n",
    "\t\t\ttd_target = recompensa + gamma * q_table[next_state, np.argmax(q_table[next_state])]\n",
    "\t\t\ttd_error = td_target - q_table[state, action]\n",
    "\t\t\tq_table[state, action] += alpha * td_error\n",
    "\t\t\t\n",
    "\t\t\t# calcular recompensa acumulada\n",
    "\t\t\tstate = next_state\n",
    "\t\t\ttotal_recompensa += recompensa\n",
    "\n",
    "\t\tif (episode + 1) % 100 == 0:\n",
    "\t\t\t\tprint(f\"Episódio {episode + 1}/{episodes} - Recompensa Total: {total_recompensa} - Epsilon: {epsilon:.3f}\")\n",
    "\n",
    "\t\trecompensas.append(total_recompensa)\n",
    "\t\tepsilon = max(0.01, epsilon * epsilon_decay)\n",
    "\n",
    "\treturn q_table, recompensas\n",
    "\n",
    "q_table, recompensas = q_learning()"
   ]
  },
  {
   "cell_type": "markdown",
   "metadata": {},
   "source": [
    "### 5. Plotar os resultados"
   ]
  },
  {
   "cell_type": "code",
   "execution_count": 388,
   "metadata": {},
   "outputs": [
    {
     "name": "stdout",
     "output_type": "stream",
     "text": [
      "Q-table:\n",
      "[[731.28140704 743.71859296 731.28140704]\n",
      " [756.28140704 756.28140704 756.28140704]\n",
      " [737.1000422  726.57815013 743.71859296]]\n"
     ]
    },
    {
     "data": {
      "image/png": "[encoded data removed]",
      "text/plain": [
       "<Figure size 640x480 with 1 Axes>"
      ]
     },
     "metadata": {},
     "output_type": "display_data"
    }
   ],
   "source": [
    "print(\"Q-table:\")\n",
    "print(q_table)\n",
    "\n",
    "plt.plot(recompensas)\n",
    "plt.xlabel('Episódios')\n",
    "plt.ylabel('Recompensa')\n",
    "plt.show()"
   ]
  }
 ],
 "metadata": {
  "kernelspec": {
   "display_name": "Python 3",
   "language": "python",
   "name": "python3"
  },
  "language_info": {
   "codemirror_mode": {
    "name": "ipython",
    "version": 3
   },
   "file_extension": ".py",
   "mimetype": "text/x-python",
   "name": "python",
   "nbconvert_exporter": "python",
   "pygments_lexer": "ipython3",
   "version": "3.10.12"
  }
 },
 "nbformat": 4,
 "nbformat_minor": 2
}
