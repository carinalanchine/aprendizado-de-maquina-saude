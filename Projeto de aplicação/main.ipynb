{
 "cells": [
  {
   "cell_type": "markdown",
   "id": "ecc9f296-963f-4de4-84b5-6f4c2a959582",
   "metadata": {},
   "source": [
    "# Motivação e Objetivo\n",
    "\n",
    "O Transtorno do Espectro Autista é um transtorno neurodesenvolvimental que afeta principalmente a comunicação e o comportamento social. Embora seja diagnosticado geralmente na infância, o diagnóstico tardio ou a falta de diagnóstico pode levar a cuidados inadequados e à marginalização do indivíduo.\n",
    "\n",
    "A motivação do projeto é, a partir do desenvolvimento de um modelo de aprendizado de máquina baseado nos resultados do questionário AQ-10 e outras informações demográficas, ajudar na identificação e no diagnóstico de TEA em adultos, proporcionando suporte a profissionais de saúde. Nosso objetivo principal é identificar o quanto cada uma das perguntas do questionário impacta no futuro diagnóstico (ou auxência dele).\n",
    "\n",
    "Para visualizar o questionário AQ-10 [acesse aqui](https://github.com/carinalanchine/machine-learning-saude/blob/main/Projeto%20de%20aplica%C3%A7%C3%A3o/AQ10.pdf)."
   ]
  },
  {
   "cell_type": "markdown",
   "id": "0249d863-0290-4595-a198-dea3497e811f",
   "metadata": {},
   "source": [
    "# Descrição do Dataset\n",
    "\n",
    "O dataset foi extraído do Autism Diagnosis Challenge no Kaggle e contém informações detalhadas sobre participantes que foram avaliados usando o questionário AQ-10.\n",
    "\n",
    "Os dados incluem alguns dados pessoais dos participantes, as respostas de cada um para as perguntas do    AQ-10, e a pontuação total no AQ-10, além de uma coluna indicando se o indivíduo foi diagnosticado formalmente com autismo ou não.\n",
    "\n",
    "O dataset inclui 704 amostras, com variáveis tanto categóricas quanto numéricas.\n",
    "\n",
    "[Fonte do dataset](https://www.kaggle.com/datasets/andrewmvd/autism-screening-on-adults/data)."
   ]
  },
  {
   "cell_type": "markdown",
   "id": "603b0bce-dca7-4273-9117-203be6a2f2f1",
   "metadata": {},
   "source": [
    "### Adicionando as bibliotecas necessárias"
   ]
  },
  {
   "cell_type": "code",
   "execution_count": 2,
   "id": "f79d17d4-185c-4b94-99b7-56eeb00319ae",
   "metadata": {},
   "outputs": [],
   "source": [
    "import pandas as pd\n",
    "import numpy as np\n",
    "import seaborn as sns\n",
    "import matplotlib.pyplot as plt\n",
    "\n",
    "from sklearn.model_selection import train_test_split, cross_val_score\n",
    "from sklearn.metrics import accuracy_score, classification_report, confusion_matrix, ConfusionMatrixDisplay\n",
    "from sklearn.tree import DecisionTreeClassifier\n",
    "from sklearn.model_selection import GridSearchCV\n",
    "from sklearn.preprocessing import LabelEncoder\n",
    "from sklearn.model_selection import StratifiedKFold\n",
    "from sklearn.ensemble import RandomForestClassifier\n",
    "from xgboost import XGBClassifier\n",
    "from sklearn.metrics import roc_curve, auc\n"
   ]
  },
  {
   "cell_type": "markdown",
   "id": "bad5aaaf",
   "metadata": {},
   "source": [
    "### Importando os dados"
   ]
  },
  {
   "cell_type": "code",
   "execution_count": 3,
   "id": "e4061e0a-0493-4fb5-a0ac-97a08ec24521",
   "metadata": {},
   "outputs": [
    {
     "data": {
      "text/html": [
       "<div>\n",
       "<style scoped>\n",
       "    .dataframe tbody tr th:only-of-type {\n",
       "        vertical-align: middle;\n",
       "    }\n",
       "\n",
       "    .dataframe tbody tr th {\n",
       "        vertical-align: top;\n",
       "    }\n",
       "\n",
       "    .dataframe thead th {\n",
       "        text-align: right;\n",
       "    }\n",
       "</style>\n",
       "<table border=\"1\" class=\"dataframe\">\n",
       "  <thead>\n",
       "    <tr style=\"text-align: right;\">\n",
       "      <th></th>\n",
       "      <th>A1_Score</th>\n",
       "      <th>A2_Score</th>\n",
       "      <th>A3_Score</th>\n",
       "      <th>A4_Score</th>\n",
       "      <th>A5_Score</th>\n",
       "      <th>A6_Score</th>\n",
       "      <th>A7_Score</th>\n",
       "      <th>A8_Score</th>\n",
       "      <th>A9_Score</th>\n",
       "      <th>A10_Score</th>\n",
       "      <th>...</th>\n",
       "      <th>gender</th>\n",
       "      <th>ethnicity</th>\n",
       "      <th>jundice</th>\n",
       "      <th>austim</th>\n",
       "      <th>contry_of_res</th>\n",
       "      <th>used_app_before</th>\n",
       "      <th>result</th>\n",
       "      <th>age_desc</th>\n",
       "      <th>relation</th>\n",
       "      <th>Class/ASD</th>\n",
       "    </tr>\n",
       "  </thead>\n",
       "  <tbody>\n",
       "    <tr>\n",
       "      <th>0</th>\n",
       "      <td>1</td>\n",
       "      <td>1</td>\n",
       "      <td>1</td>\n",
       "      <td>1</td>\n",
       "      <td>0</td>\n",
       "      <td>0</td>\n",
       "      <td>1</td>\n",
       "      <td>1</td>\n",
       "      <td>0</td>\n",
       "      <td>0</td>\n",
       "      <td>...</td>\n",
       "      <td>f</td>\n",
       "      <td>White-European</td>\n",
       "      <td>no</td>\n",
       "      <td>no</td>\n",
       "      <td>United States</td>\n",
       "      <td>no</td>\n",
       "      <td>6.0</td>\n",
       "      <td>18 and more</td>\n",
       "      <td>Self</td>\n",
       "      <td>NO</td>\n",
       "    </tr>\n",
       "    <tr>\n",
       "      <th>1</th>\n",
       "      <td>1</td>\n",
       "      <td>1</td>\n",
       "      <td>0</td>\n",
       "      <td>1</td>\n",
       "      <td>0</td>\n",
       "      <td>0</td>\n",
       "      <td>0</td>\n",
       "      <td>1</td>\n",
       "      <td>0</td>\n",
       "      <td>1</td>\n",
       "      <td>...</td>\n",
       "      <td>m</td>\n",
       "      <td>Latino</td>\n",
       "      <td>no</td>\n",
       "      <td>yes</td>\n",
       "      <td>Brazil</td>\n",
       "      <td>no</td>\n",
       "      <td>5.0</td>\n",
       "      <td>18 and more</td>\n",
       "      <td>Self</td>\n",
       "      <td>NO</td>\n",
       "    </tr>\n",
       "    <tr>\n",
       "      <th>2</th>\n",
       "      <td>1</td>\n",
       "      <td>1</td>\n",
       "      <td>0</td>\n",
       "      <td>1</td>\n",
       "      <td>1</td>\n",
       "      <td>0</td>\n",
       "      <td>1</td>\n",
       "      <td>1</td>\n",
       "      <td>1</td>\n",
       "      <td>1</td>\n",
       "      <td>...</td>\n",
       "      <td>m</td>\n",
       "      <td>Latino</td>\n",
       "      <td>yes</td>\n",
       "      <td>yes</td>\n",
       "      <td>Spain</td>\n",
       "      <td>no</td>\n",
       "      <td>8.0</td>\n",
       "      <td>18 and more</td>\n",
       "      <td>Parent</td>\n",
       "      <td>YES</td>\n",
       "    </tr>\n",
       "    <tr>\n",
       "      <th>3</th>\n",
       "      <td>1</td>\n",
       "      <td>1</td>\n",
       "      <td>0</td>\n",
       "      <td>1</td>\n",
       "      <td>0</td>\n",
       "      <td>0</td>\n",
       "      <td>1</td>\n",
       "      <td>1</td>\n",
       "      <td>0</td>\n",
       "      <td>1</td>\n",
       "      <td>...</td>\n",
       "      <td>f</td>\n",
       "      <td>White-European</td>\n",
       "      <td>no</td>\n",
       "      <td>yes</td>\n",
       "      <td>United States</td>\n",
       "      <td>no</td>\n",
       "      <td>6.0</td>\n",
       "      <td>18 and more</td>\n",
       "      <td>Self</td>\n",
       "      <td>NO</td>\n",
       "    </tr>\n",
       "    <tr>\n",
       "      <th>4</th>\n",
       "      <td>1</td>\n",
       "      <td>0</td>\n",
       "      <td>0</td>\n",
       "      <td>0</td>\n",
       "      <td>0</td>\n",
       "      <td>0</td>\n",
       "      <td>0</td>\n",
       "      <td>1</td>\n",
       "      <td>0</td>\n",
       "      <td>0</td>\n",
       "      <td>...</td>\n",
       "      <td>f</td>\n",
       "      <td>?</td>\n",
       "      <td>no</td>\n",
       "      <td>no</td>\n",
       "      <td>Egypt</td>\n",
       "      <td>no</td>\n",
       "      <td>2.0</td>\n",
       "      <td>18 and more</td>\n",
       "      <td>?</td>\n",
       "      <td>NO</td>\n",
       "    </tr>\n",
       "  </tbody>\n",
       "</table>\n",
       "<p>5 rows × 21 columns</p>\n",
       "</div>"
      ],
      "text/plain": [
       "   A1_Score  A2_Score  A3_Score  A4_Score  A5_Score  A6_Score  A7_Score  \\\n",
       "0         1         1         1         1         0         0         1   \n",
       "1         1         1         0         1         0         0         0   \n",
       "2         1         1         0         1         1         0         1   \n",
       "3         1         1         0         1         0         0         1   \n",
       "4         1         0         0         0         0         0         0   \n",
       "\n",
       "   A8_Score  A9_Score  A10_Score  ...  gender       ethnicity jundice austim  \\\n",
       "0         1         0          0  ...       f  White-European      no     no   \n",
       "1         1         0          1  ...       m          Latino      no    yes   \n",
       "2         1         1          1  ...       m          Latino     yes    yes   \n",
       "3         1         0          1  ...       f  White-European      no    yes   \n",
       "4         1         0          0  ...       f               ?      no     no   \n",
       "\n",
       "   contry_of_res used_app_before result     age_desc relation Class/ASD  \n",
       "0  United States              no    6.0  18 and more     Self        NO  \n",
       "1         Brazil              no    5.0  18 and more     Self        NO  \n",
       "2          Spain              no    8.0  18 and more   Parent       YES  \n",
       "3  United States              no    6.0  18 and more     Self        NO  \n",
       "4          Egypt              no    2.0  18 and more        ?        NO  \n",
       "\n",
       "[5 rows x 21 columns]"
      ]
     },
     "execution_count": 3,
     "metadata": {},
     "output_type": "execute_result"
    }
   ],
   "source": [
    "dataset = pd.read_csv('./autism_screening.csv')\n",
    "dataset.head()"
   ]
  },
  {
   "cell_type": "markdown",
   "id": "356fbd6a-9626-4775-8c53-17d62aedf691",
   "metadata": {},
   "source": [
    "### Fazendo uma análise inicial do dataset"
   ]
  },
  {
   "cell_type": "code",
   "execution_count": 4,
   "id": "5e6fb154",
   "metadata": {},
   "outputs": [
    {
     "data": {
      "text/html": [
       "<div>\n",
       "<style scoped>\n",
       "    .dataframe tbody tr th:only-of-type {\n",
       "        vertical-align: middle;\n",
       "    }\n",
       "\n",
       "    .dataframe tbody tr th {\n",
       "        vertical-align: top;\n",
       "    }\n",
       "\n",
       "    .dataframe thead th {\n",
       "        text-align: right;\n",
       "    }\n",
       "</style>\n",
       "<table border=\"1\" class=\"dataframe\">\n",
       "  <thead>\n",
       "    <tr style=\"text-align: right;\">\n",
       "      <th></th>\n",
       "      <th>A1_Score</th>\n",
       "      <th>A2_Score</th>\n",
       "      <th>A3_Score</th>\n",
       "      <th>A4_Score</th>\n",
       "      <th>A5_Score</th>\n",
       "      <th>A6_Score</th>\n",
       "      <th>A7_Score</th>\n",
       "      <th>A8_Score</th>\n",
       "      <th>A9_Score</th>\n",
       "      <th>A10_Score</th>\n",
       "      <th>age</th>\n",
       "      <th>result</th>\n",
       "    </tr>\n",
       "  </thead>\n",
       "  <tbody>\n",
       "    <tr>\n",
       "      <th>count</th>\n",
       "      <td>704.000000</td>\n",
       "      <td>704.000000</td>\n",
       "      <td>704.000000</td>\n",
       "      <td>704.000000</td>\n",
       "      <td>704.000000</td>\n",
       "      <td>704.000000</td>\n",
       "      <td>704.000000</td>\n",
       "      <td>704.000000</td>\n",
       "      <td>704.000000</td>\n",
       "      <td>704.000000</td>\n",
       "      <td>702.000000</td>\n",
       "      <td>704.000000</td>\n",
       "    </tr>\n",
       "    <tr>\n",
       "      <th>mean</th>\n",
       "      <td>0.721591</td>\n",
       "      <td>0.453125</td>\n",
       "      <td>0.457386</td>\n",
       "      <td>0.495739</td>\n",
       "      <td>0.498580</td>\n",
       "      <td>0.284091</td>\n",
       "      <td>0.417614</td>\n",
       "      <td>0.649148</td>\n",
       "      <td>0.323864</td>\n",
       "      <td>0.573864</td>\n",
       "      <td>29.698006</td>\n",
       "      <td>4.875000</td>\n",
       "    </tr>\n",
       "    <tr>\n",
       "      <th>std</th>\n",
       "      <td>0.448535</td>\n",
       "      <td>0.498152</td>\n",
       "      <td>0.498535</td>\n",
       "      <td>0.500337</td>\n",
       "      <td>0.500353</td>\n",
       "      <td>0.451301</td>\n",
       "      <td>0.493516</td>\n",
       "      <td>0.477576</td>\n",
       "      <td>0.468281</td>\n",
       "      <td>0.494866</td>\n",
       "      <td>16.507465</td>\n",
       "      <td>2.501493</td>\n",
       "    </tr>\n",
       "    <tr>\n",
       "      <th>min</th>\n",
       "      <td>0.000000</td>\n",
       "      <td>0.000000</td>\n",
       "      <td>0.000000</td>\n",
       "      <td>0.000000</td>\n",
       "      <td>0.000000</td>\n",
       "      <td>0.000000</td>\n",
       "      <td>0.000000</td>\n",
       "      <td>0.000000</td>\n",
       "      <td>0.000000</td>\n",
       "      <td>0.000000</td>\n",
       "      <td>17.000000</td>\n",
       "      <td>0.000000</td>\n",
       "    </tr>\n",
       "    <tr>\n",
       "      <th>25%</th>\n",
       "      <td>0.000000</td>\n",
       "      <td>0.000000</td>\n",
       "      <td>0.000000</td>\n",
       "      <td>0.000000</td>\n",
       "      <td>0.000000</td>\n",
       "      <td>0.000000</td>\n",
       "      <td>0.000000</td>\n",
       "      <td>0.000000</td>\n",
       "      <td>0.000000</td>\n",
       "      <td>0.000000</td>\n",
       "      <td>21.000000</td>\n",
       "      <td>3.000000</td>\n",
       "    </tr>\n",
       "    <tr>\n",
       "      <th>50%</th>\n",
       "      <td>1.000000</td>\n",
       "      <td>0.000000</td>\n",
       "      <td>0.000000</td>\n",
       "      <td>0.000000</td>\n",
       "      <td>0.000000</td>\n",
       "      <td>0.000000</td>\n",
       "      <td>0.000000</td>\n",
       "      <td>1.000000</td>\n",
       "      <td>0.000000</td>\n",
       "      <td>1.000000</td>\n",
       "      <td>27.000000</td>\n",
       "      <td>4.000000</td>\n",
       "    </tr>\n",
       "    <tr>\n",
       "      <th>75%</th>\n",
       "      <td>1.000000</td>\n",
       "      <td>1.000000</td>\n",
       "      <td>1.000000</td>\n",
       "      <td>1.000000</td>\n",
       "      <td>1.000000</td>\n",
       "      <td>1.000000</td>\n",
       "      <td>1.000000</td>\n",
       "      <td>1.000000</td>\n",
       "      <td>1.000000</td>\n",
       "      <td>1.000000</td>\n",
       "      <td>35.000000</td>\n",
       "      <td>7.000000</td>\n",
       "    </tr>\n",
       "    <tr>\n",
       "      <th>max</th>\n",
       "      <td>1.000000</td>\n",
       "      <td>1.000000</td>\n",
       "      <td>1.000000</td>\n",
       "      <td>1.000000</td>\n",
       "      <td>1.000000</td>\n",
       "      <td>1.000000</td>\n",
       "      <td>1.000000</td>\n",
       "      <td>1.000000</td>\n",
       "      <td>1.000000</td>\n",
       "      <td>1.000000</td>\n",
       "      <td>383.000000</td>\n",
       "      <td>10.000000</td>\n",
       "    </tr>\n",
       "  </tbody>\n",
       "</table>\n",
       "</div>"
      ],
      "text/plain": [
       "         A1_Score    A2_Score    A3_Score    A4_Score    A5_Score    A6_Score  \\\n",
       "count  704.000000  704.000000  704.000000  704.000000  704.000000  704.000000   \n",
       "mean     0.721591    0.453125    0.457386    0.495739    0.498580    0.284091   \n",
       "std      0.448535    0.498152    0.498535    0.500337    0.500353    0.451301   \n",
       "min      0.000000    0.000000    0.000000    0.000000    0.000000    0.000000   \n",
       "25%      0.000000    0.000000    0.000000    0.000000    0.000000    0.000000   \n",
       "50%      1.000000    0.000000    0.000000    0.000000    0.000000    0.000000   \n",
       "75%      1.000000    1.000000    1.000000    1.000000    1.000000    1.000000   \n",
       "max      1.000000    1.000000    1.000000    1.000000    1.000000    1.000000   \n",
       "\n",
       "         A7_Score    A8_Score    A9_Score   A10_Score         age      result  \n",
       "count  704.000000  704.000000  704.000000  704.000000  702.000000  704.000000  \n",
       "mean     0.417614    0.649148    0.323864    0.573864   29.698006    4.875000  \n",
       "std      0.493516    0.477576    0.468281    0.494866   16.507465    2.501493  \n",
       "min      0.000000    0.000000    0.000000    0.000000   17.000000    0.000000  \n",
       "25%      0.000000    0.000000    0.000000    0.000000   21.000000    3.000000  \n",
       "50%      0.000000    1.000000    0.000000    1.000000   27.000000    4.000000  \n",
       "75%      1.000000    1.000000    1.000000    1.000000   35.000000    7.000000  \n",
       "max      1.000000    1.000000    1.000000    1.000000  383.000000   10.000000  "
      ]
     },
     "execution_count": 4,
     "metadata": {},
     "output_type": "execute_result"
    }
   ],
   "source": [
    "dataset.describe()"
   ]
  },
  {
   "cell_type": "markdown",
   "id": "edf9edc5-5775-4d19-b876-c2c0d685087e",
   "metadata": {},
   "source": [
    "### Removendo e renomeando colunas conforme necessário"
   ]
  },
  {
   "cell_type": "code",
   "execution_count": 5,
   "id": "85693c74-2e18-4970-9e14-752098e9e9ef",
   "metadata": {},
   "outputs": [
    {
     "data": {
      "text/html": [
       "<div>\n",
       "<style scoped>\n",
       "    .dataframe tbody tr th:only-of-type {\n",
       "        vertical-align: middle;\n",
       "    }\n",
       "\n",
       "    .dataframe tbody tr th {\n",
       "        vertical-align: top;\n",
       "    }\n",
       "\n",
       "    .dataframe thead th {\n",
       "        text-align: right;\n",
       "    }\n",
       "</style>\n",
       "<table border=\"1\" class=\"dataframe\">\n",
       "  <thead>\n",
       "    <tr style=\"text-align: right;\">\n",
       "      <th></th>\n",
       "      <th>A01</th>\n",
       "      <th>A02</th>\n",
       "      <th>A03</th>\n",
       "      <th>A04</th>\n",
       "      <th>A05</th>\n",
       "      <th>A06</th>\n",
       "      <th>A07</th>\n",
       "      <th>A08</th>\n",
       "      <th>A09</th>\n",
       "      <th>A10</th>\n",
       "      <th>age</th>\n",
       "      <th>gender</th>\n",
       "      <th>jundice</th>\n",
       "      <th>autism_history</th>\n",
       "      <th>autism</th>\n",
       "    </tr>\n",
       "  </thead>\n",
       "  <tbody>\n",
       "    <tr>\n",
       "      <th>0</th>\n",
       "      <td>1</td>\n",
       "      <td>1</td>\n",
       "      <td>1</td>\n",
       "      <td>1</td>\n",
       "      <td>0</td>\n",
       "      <td>0</td>\n",
       "      <td>1</td>\n",
       "      <td>1</td>\n",
       "      <td>0</td>\n",
       "      <td>0</td>\n",
       "      <td>26.0</td>\n",
       "      <td>f</td>\n",
       "      <td>no</td>\n",
       "      <td>no</td>\n",
       "      <td>NO</td>\n",
       "    </tr>\n",
       "    <tr>\n",
       "      <th>1</th>\n",
       "      <td>1</td>\n",
       "      <td>1</td>\n",
       "      <td>0</td>\n",
       "      <td>1</td>\n",
       "      <td>0</td>\n",
       "      <td>0</td>\n",
       "      <td>0</td>\n",
       "      <td>1</td>\n",
       "      <td>0</td>\n",
       "      <td>1</td>\n",
       "      <td>24.0</td>\n",
       "      <td>m</td>\n",
       "      <td>no</td>\n",
       "      <td>yes</td>\n",
       "      <td>NO</td>\n",
       "    </tr>\n",
       "    <tr>\n",
       "      <th>2</th>\n",
       "      <td>1</td>\n",
       "      <td>1</td>\n",
       "      <td>0</td>\n",
       "      <td>1</td>\n",
       "      <td>1</td>\n",
       "      <td>0</td>\n",
       "      <td>1</td>\n",
       "      <td>1</td>\n",
       "      <td>1</td>\n",
       "      <td>1</td>\n",
       "      <td>27.0</td>\n",
       "      <td>m</td>\n",
       "      <td>yes</td>\n",
       "      <td>yes</td>\n",
       "      <td>YES</td>\n",
       "    </tr>\n",
       "    <tr>\n",
       "      <th>3</th>\n",
       "      <td>1</td>\n",
       "      <td>1</td>\n",
       "      <td>0</td>\n",
       "      <td>1</td>\n",
       "      <td>0</td>\n",
       "      <td>0</td>\n",
       "      <td>1</td>\n",
       "      <td>1</td>\n",
       "      <td>0</td>\n",
       "      <td>1</td>\n",
       "      <td>35.0</td>\n",
       "      <td>f</td>\n",
       "      <td>no</td>\n",
       "      <td>yes</td>\n",
       "      <td>NO</td>\n",
       "    </tr>\n",
       "    <tr>\n",
       "      <th>4</th>\n",
       "      <td>1</td>\n",
       "      <td>0</td>\n",
       "      <td>0</td>\n",
       "      <td>0</td>\n",
       "      <td>0</td>\n",
       "      <td>0</td>\n",
       "      <td>0</td>\n",
       "      <td>1</td>\n",
       "      <td>0</td>\n",
       "      <td>0</td>\n",
       "      <td>40.0</td>\n",
       "      <td>f</td>\n",
       "      <td>no</td>\n",
       "      <td>no</td>\n",
       "      <td>NO</td>\n",
       "    </tr>\n",
       "  </tbody>\n",
       "</table>\n",
       "</div>"
      ],
      "text/plain": [
       "   A01  A02  A03  A04  A05  A06  A07  A08  A09  A10   age gender jundice  \\\n",
       "0    1    1    1    1    0    0    1    1    0    0  26.0      f      no   \n",
       "1    1    1    0    1    0    0    0    1    0    1  24.0      m      no   \n",
       "2    1    1    0    1    1    0    1    1    1    1  27.0      m     yes   \n",
       "3    1    1    0    1    0    0    1    1    0    1  35.0      f      no   \n",
       "4    1    0    0    0    0    0    0    1    0    0  40.0      f      no   \n",
       "\n",
       "  autism_history autism  \n",
       "0             no     NO  \n",
       "1            yes     NO  \n",
       "2            yes    YES  \n",
       "3            yes     NO  \n",
       "4             no     NO  "
      ]
     },
     "execution_count": 5,
     "metadata": {},
     "output_type": "execute_result"
    }
   ],
   "source": [
    "dataset = dataset.drop(columns =['ethnicity', 'contry_of_res', 'used_app_before', 'age_desc', 'relation', 'result'])\n",
    "dataset = dataset.rename(columns={'austim': 'autism_history',  'Class/ASD': 'autism', 'A1_Score': 'A01', 'A2_Score': 'A02', 'A3_Score': 'A03', 'A4_Score': 'A04', 'A5_Score': 'A05', 'A6_Score': 'A06', 'A7_Score': 'A07', 'A8_Score': 'A08', 'A9_Score': 'A09', 'A10_Score': 'A10'})\n",
    "dataset.head()"
   ]
  },
  {
   "cell_type": "markdown",
   "id": "335a0274-68ae-446c-bcfa-fa1a30aad407",
   "metadata": {},
   "source": [
    "### Analisando os valores únicos de cada coluna"
   ]
  },
  {
   "cell_type": "code",
   "execution_count": 6,
   "id": "e5459dd0",
   "metadata": {},
   "outputs": [
    {
     "name": "stdout",
     "output_type": "stream",
     "text": [
      "A01: [1 0]\n",
      "A02: [1 0]\n",
      "A03: [1 0]\n",
      "A04: [1 0]\n",
      "A05: [0 1]\n",
      "A06: [0 1]\n",
      "A07: [1 0]\n",
      "A08: [1 0]\n",
      "A09: [0 1]\n",
      "A10: [0 1]\n",
      "age: [ 26.  24.  27.  35.  40.  36.  17.  64.  29.  33.  18.  31.  30.  34.\n",
      "  38.  42.  43.  48.  37.  55.  50.  53.  20.  28.  21. 383.  47.  32.\n",
      "  44.  nan  19.  58.  45.  22.  39.  25.  23.  54.  60.  41.  46.  56.\n",
      "  61.  59.  52.  49.  51.]\n",
      "gender: ['f' 'm']\n",
      "jundice: ['no' 'yes']\n",
      "autism_history: ['no' 'yes']\n",
      "autism: ['NO' 'YES']\n"
     ]
    }
   ],
   "source": [
    "for col in dataset.columns:\n",
    "    print(f\"{col}: {dataset[col].unique()}\")"
   ]
  },
  {
   "cell_type": "markdown",
   "id": "83f5330a-7d5e-4fdb-bbb1-7bc6901214ef",
   "metadata": {},
   "source": [
    "### Removendo colunas com NaN e analisando os novos dados"
   ]
  },
  {
   "cell_type": "code",
   "execution_count": 7,
   "id": "4d9b65b4",
   "metadata": {},
   "outputs": [
    {
     "name": "stdout",
     "output_type": "stream",
     "text": [
      "A01: [1 0]\n",
      "A02: [1 0]\n",
      "A03: [1 0]\n",
      "A04: [1 0]\n",
      "A05: [0 1]\n",
      "A06: [0 1]\n",
      "A07: [1 0]\n",
      "A08: [1 0]\n",
      "A09: [0 1]\n",
      "A10: [0 1]\n",
      "age: [26. 24. 27. 35. 40. 36. 17. 64. 29. 33. 18. 31. 30. 34. 38. 42. 43. 48.\n",
      " 37. 55. 50. 53. 20. 28. 21. 47. 32. 44. 19. 58. 45. 22. 39. 25. 23. 54.\n",
      " 60. 41. 46. 56. 61. 59. 52. 49. 51.]\n",
      "gender: ['f' 'm']\n",
      "jundice: ['no' 'yes']\n",
      "autism_history: ['no' 'yes']\n",
      "autism: ['NO' 'YES']\n"
     ]
    }
   ],
   "source": [
    "dataset = dataset.replace(383., np.nan)\n",
    "dataset = dataset.dropna()\n",
    "\n",
    "for col in dataset.columns:\n",
    "    print(f\"{col}: {dataset[col].unique()}\")"
   ]
  },
  {
   "cell_type": "markdown",
   "id": "d55857a8-899f-4e7e-8235-d949b26b5920",
   "metadata": {},
   "source": [
    "### Analisando o tipo dos dados"
   ]
  },
  {
   "cell_type": "code",
   "execution_count": 8,
   "id": "bc17c1f0",
   "metadata": {},
   "outputs": [
    {
     "name": "stdout",
     "output_type": "stream",
     "text": [
      "A01                 int64\n",
      "A02                 int64\n",
      "A03                 int64\n",
      "A04                 int64\n",
      "A05                 int64\n",
      "A06                 int64\n",
      "A07                 int64\n",
      "A08                 int64\n",
      "A09                 int64\n",
      "A10                 int64\n",
      "age               float64\n",
      "gender             object\n",
      "jundice            object\n",
      "autism_history     object\n",
      "autism             object\n",
      "dtype: object\n"
     ]
    }
   ],
   "source": [
    "print(dataset.dtypes)"
   ]
  },
  {
   "cell_type": "markdown",
   "id": "fa19888c-ba8a-42ac-95c1-f77a1a40f9f8",
   "metadata": {},
   "source": [
    "### Convertendo float64 para int64"
   ]
  },
  {
   "cell_type": "code",
   "execution_count": 9,
   "id": "9f939904",
   "metadata": {},
   "outputs": [
    {
     "name": "stdout",
     "output_type": "stream",
     "text": [
      "A01                int64\n",
      "A02                int64\n",
      "A03                int64\n",
      "A04                int64\n",
      "A05                int64\n",
      "A06                int64\n",
      "A07                int64\n",
      "A08                int64\n",
      "A09                int64\n",
      "A10                int64\n",
      "age                int64\n",
      "gender            object\n",
      "jundice           object\n",
      "autism_history    object\n",
      "autism            object\n",
      "dtype: object\n"
     ]
    }
   ],
   "source": [
    "dataset['age'] = dataset['age'].astype('int64')\n",
    "print(dataset.dtypes)"
   ]
  },
  {
   "cell_type": "markdown",
   "id": "58363ffa-cba4-4806-8424-e21a422ab3d4",
   "metadata": {},
   "source": [
    "### Fazendo label encoding nas colunas"
   ]
  },
  {
   "cell_type": "code",
   "execution_count": 10,
   "id": "cf5a2b67-d116-430b-a67f-e24a7cd1628f",
   "metadata": {},
   "outputs": [
    {
     "data": {
      "text/html": [
       "<div>\n",
       "<style scoped>\n",
       "    .dataframe tbody tr th:only-of-type {\n",
       "        vertical-align: middle;\n",
       "    }\n",
       "\n",
       "    .dataframe tbody tr th {\n",
       "        vertical-align: top;\n",
       "    }\n",
       "\n",
       "    .dataframe thead th {\n",
       "        text-align: right;\n",
       "    }\n",
       "</style>\n",
       "<table border=\"1\" class=\"dataframe\">\n",
       "  <thead>\n",
       "    <tr style=\"text-align: right;\">\n",
       "      <th></th>\n",
       "      <th>A01</th>\n",
       "      <th>A02</th>\n",
       "      <th>A03</th>\n",
       "      <th>A04</th>\n",
       "      <th>A05</th>\n",
       "      <th>A06</th>\n",
       "      <th>A07</th>\n",
       "      <th>A08</th>\n",
       "      <th>A09</th>\n",
       "      <th>A10</th>\n",
       "      <th>idade</th>\n",
       "      <th>gênero</th>\n",
       "      <th>icterícia</th>\n",
       "      <th>histórico_familiar</th>\n",
       "      <th>autism</th>\n",
       "    </tr>\n",
       "  </thead>\n",
       "  <tbody>\n",
       "    <tr>\n",
       "      <th>0</th>\n",
       "      <td>1</td>\n",
       "      <td>1</td>\n",
       "      <td>1</td>\n",
       "      <td>1</td>\n",
       "      <td>0</td>\n",
       "      <td>0</td>\n",
       "      <td>1</td>\n",
       "      <td>1</td>\n",
       "      <td>0</td>\n",
       "      <td>0</td>\n",
       "      <td>26</td>\n",
       "      <td>0</td>\n",
       "      <td>0</td>\n",
       "      <td>0</td>\n",
       "      <td>0</td>\n",
       "    </tr>\n",
       "    <tr>\n",
       "      <th>1</th>\n",
       "      <td>1</td>\n",
       "      <td>1</td>\n",
       "      <td>0</td>\n",
       "      <td>1</td>\n",
       "      <td>0</td>\n",
       "      <td>0</td>\n",
       "      <td>0</td>\n",
       "      <td>1</td>\n",
       "      <td>0</td>\n",
       "      <td>1</td>\n",
       "      <td>24</td>\n",
       "      <td>1</td>\n",
       "      <td>0</td>\n",
       "      <td>1</td>\n",
       "      <td>0</td>\n",
       "    </tr>\n",
       "    <tr>\n",
       "      <th>2</th>\n",
       "      <td>1</td>\n",
       "      <td>1</td>\n",
       "      <td>0</td>\n",
       "      <td>1</td>\n",
       "      <td>1</td>\n",
       "      <td>0</td>\n",
       "      <td>1</td>\n",
       "      <td>1</td>\n",
       "      <td>1</td>\n",
       "      <td>1</td>\n",
       "      <td>27</td>\n",
       "      <td>1</td>\n",
       "      <td>1</td>\n",
       "      <td>1</td>\n",
       "      <td>1</td>\n",
       "    </tr>\n",
       "    <tr>\n",
       "      <th>3</th>\n",
       "      <td>1</td>\n",
       "      <td>1</td>\n",
       "      <td>0</td>\n",
       "      <td>1</td>\n",
       "      <td>0</td>\n",
       "      <td>0</td>\n",
       "      <td>1</td>\n",
       "      <td>1</td>\n",
       "      <td>0</td>\n",
       "      <td>1</td>\n",
       "      <td>35</td>\n",
       "      <td>0</td>\n",
       "      <td>0</td>\n",
       "      <td>1</td>\n",
       "      <td>0</td>\n",
       "    </tr>\n",
       "    <tr>\n",
       "      <th>4</th>\n",
       "      <td>1</td>\n",
       "      <td>0</td>\n",
       "      <td>0</td>\n",
       "      <td>0</td>\n",
       "      <td>0</td>\n",
       "      <td>0</td>\n",
       "      <td>0</td>\n",
       "      <td>1</td>\n",
       "      <td>0</td>\n",
       "      <td>0</td>\n",
       "      <td>40</td>\n",
       "      <td>0</td>\n",
       "      <td>0</td>\n",
       "      <td>0</td>\n",
       "      <td>0</td>\n",
       "    </tr>\n",
       "  </tbody>\n",
       "</table>\n",
       "</div>"
      ],
      "text/plain": [
       "   A01  A02  A03  A04  A05  A06  A07  A08  A09  A10  idade  gênero  icterícia  \\\n",
       "0    1    1    1    1    0    0    1    1    0    0     26       0          0   \n",
       "1    1    1    0    1    0    0    0    1    0    1     24       1          0   \n",
       "2    1    1    0    1    1    0    1    1    1    1     27       1          1   \n",
       "3    1    1    0    1    0    0    1    1    0    1     35       0          0   \n",
       "4    1    0    0    0    0    0    0    1    0    0     40       0          0   \n",
       "\n",
       "   histórico_familiar  autism  \n",
       "0                   0       0  \n",
       "1                   1       0  \n",
       "2                   1       1  \n",
       "3                   1       0  \n",
       "4                   0       0  "
      ]
     },
     "execution_count": 10,
     "metadata": {},
     "output_type": "execute_result"
    }
   ],
   "source": [
    "label_encoder = LabelEncoder()\n",
    "dataset[['autism', 'autism_history', 'gender', 'jundice']] = dataset[['autism', 'autism_history', 'gender', 'jundice']].apply(label_encoder.fit_transform)\n",
    "dataset = dataset.rename(columns={'gender': 'gênero', 'age': 'idade', 'autism_history': 'histórico_familiar', 'jundice': 'icterícia'})\n",
    "dataset.head()"
   ]
  },
  {
   "cell_type": "markdown",
   "id": "016e192c",
   "metadata": {},
   "source": [
    "### Tratamento dos dados (X)"
   ]
  },
  {
   "cell_type": "code",
   "execution_count": 11,
   "id": "92fe8bd5-5e9e-4b78-823e-07721b2c0500",
   "metadata": {},
   "outputs": [
    {
     "data": {
      "text/html": [
       "<div>\n",
       "<style scoped>\n",
       "    .dataframe tbody tr th:only-of-type {\n",
       "        vertical-align: middle;\n",
       "    }\n",
       "\n",
       "    .dataframe tbody tr th {\n",
       "        vertical-align: top;\n",
       "    }\n",
       "\n",
       "    .dataframe thead th {\n",
       "        text-align: right;\n",
       "    }\n",
       "</style>\n",
       "<table border=\"1\" class=\"dataframe\">\n",
       "  <thead>\n",
       "    <tr style=\"text-align: right;\">\n",
       "      <th></th>\n",
       "      <th>A01</th>\n",
       "      <th>A02</th>\n",
       "      <th>A03</th>\n",
       "      <th>A04</th>\n",
       "      <th>A05</th>\n",
       "      <th>A06</th>\n",
       "      <th>A07</th>\n",
       "      <th>A08</th>\n",
       "      <th>A09</th>\n",
       "      <th>A10</th>\n",
       "      <th>idade</th>\n",
       "      <th>gênero</th>\n",
       "      <th>icterícia</th>\n",
       "      <th>histórico_familiar</th>\n",
       "    </tr>\n",
       "  </thead>\n",
       "  <tbody>\n",
       "    <tr>\n",
       "      <th>0</th>\n",
       "      <td>1</td>\n",
       "      <td>1</td>\n",
       "      <td>1</td>\n",
       "      <td>1</td>\n",
       "      <td>0</td>\n",
       "      <td>0</td>\n",
       "      <td>1</td>\n",
       "      <td>1</td>\n",
       "      <td>0</td>\n",
       "      <td>0</td>\n",
       "      <td>26</td>\n",
       "      <td>0</td>\n",
       "      <td>0</td>\n",
       "      <td>0</td>\n",
       "    </tr>\n",
       "    <tr>\n",
       "      <th>1</th>\n",
       "      <td>1</td>\n",
       "      <td>1</td>\n",
       "      <td>0</td>\n",
       "      <td>1</td>\n",
       "      <td>0</td>\n",
       "      <td>0</td>\n",
       "      <td>0</td>\n",
       "      <td>1</td>\n",
       "      <td>0</td>\n",
       "      <td>1</td>\n",
       "      <td>24</td>\n",
       "      <td>1</td>\n",
       "      <td>0</td>\n",
       "      <td>1</td>\n",
       "    </tr>\n",
       "    <tr>\n",
       "      <th>2</th>\n",
       "      <td>1</td>\n",
       "      <td>1</td>\n",
       "      <td>0</td>\n",
       "      <td>1</td>\n",
       "      <td>1</td>\n",
       "      <td>0</td>\n",
       "      <td>1</td>\n",
       "      <td>1</td>\n",
       "      <td>1</td>\n",
       "      <td>1</td>\n",
       "      <td>27</td>\n",
       "      <td>1</td>\n",
       "      <td>1</td>\n",
       "      <td>1</td>\n",
       "    </tr>\n",
       "    <tr>\n",
       "      <th>3</th>\n",
       "      <td>1</td>\n",
       "      <td>1</td>\n",
       "      <td>0</td>\n",
       "      <td>1</td>\n",
       "      <td>0</td>\n",
       "      <td>0</td>\n",
       "      <td>1</td>\n",
       "      <td>1</td>\n",
       "      <td>0</td>\n",
       "      <td>1</td>\n",
       "      <td>35</td>\n",
       "      <td>0</td>\n",
       "      <td>0</td>\n",
       "      <td>1</td>\n",
       "    </tr>\n",
       "    <tr>\n",
       "      <th>4</th>\n",
       "      <td>1</td>\n",
       "      <td>0</td>\n",
       "      <td>0</td>\n",
       "      <td>0</td>\n",
       "      <td>0</td>\n",
       "      <td>0</td>\n",
       "      <td>0</td>\n",
       "      <td>1</td>\n",
       "      <td>0</td>\n",
       "      <td>0</td>\n",
       "      <td>40</td>\n",
       "      <td>0</td>\n",
       "      <td>0</td>\n",
       "      <td>0</td>\n",
       "    </tr>\n",
       "  </tbody>\n",
       "</table>\n",
       "</div>"
      ],
      "text/plain": [
       "   A01  A02  A03  A04  A05  A06  A07  A08  A09  A10  idade  gênero  icterícia  \\\n",
       "0    1    1    1    1    0    0    1    1    0    0     26       0          0   \n",
       "1    1    1    0    1    0    0    0    1    0    1     24       1          0   \n",
       "2    1    1    0    1    1    0    1    1    1    1     27       1          1   \n",
       "3    1    1    0    1    0    0    1    1    0    1     35       0          0   \n",
       "4    1    0    0    0    0    0    0    1    0    0     40       0          0   \n",
       "\n",
       "   histórico_familiar  \n",
       "0                   0  \n",
       "1                   1  \n",
       "2                   1  \n",
       "3                   1  \n",
       "4                   0  "
      ]
     },
     "execution_count": 11,
     "metadata": {},
     "output_type": "execute_result"
    }
   ],
   "source": [
    "X = dataset.drop(columns=['autism'])\n",
    "X.head()"
   ]
  },
  {
   "cell_type": "markdown",
   "id": "30ab77c0-7e23-4766-ab28-095efe9ee194",
   "metadata": {},
   "source": [
    "### Tratamento da classe (y)"
   ]
  },
  {
   "cell_type": "code",
   "execution_count": 12,
   "id": "fbcbbed8",
   "metadata": {},
   "outputs": [
    {
     "data": {
      "text/plain": [
       "0    0\n",
       "1    0\n",
       "2    1\n",
       "3    0\n",
       "4    0\n",
       "Name: autism, dtype: int64"
      ]
     },
     "execution_count": 12,
     "metadata": {},
     "output_type": "execute_result"
    }
   ],
   "source": [
    "y = dataset['autism']\n",
    "y.head()"
   ]
  },
  {
   "cell_type": "code",
   "execution_count": 13,
   "id": "1649ccf7",
   "metadata": {},
   "outputs": [
    {
     "name": "stdout",
     "output_type": "stream",
     "text": [
      "A01                   0.296792\n",
      "A02                   0.311637\n",
      "A03                   0.439832\n",
      "A04                   0.468729\n",
      "A05                   0.537714\n",
      "A06                   0.591424\n",
      "A07                   0.351969\n",
      "A08                   0.234749\n",
      "A09                   0.634931\n",
      "A10                   0.385902\n",
      "idade                 0.132279\n",
      "gênero               -0.081597\n",
      "icterícia             0.101400\n",
      "histórico_familiar    0.176611\n",
      "dtype: float64\n"
     ]
    },
    {
     "data": {
      "image/png": "[encoded data removed]",
      "text/plain": [
       "<Figure size 640x480 with 1 Axes>"
      ]
     },
     "metadata": {},
     "output_type": "display_data"
    }
   ],
   "source": [
    "# Coeficiente de correlação de Pearson\n",
    "correlacoes = X.corrwith(y)\n",
    "print(correlacoes)\n",
    "\n",
    "# Criar o gráfico de linha\n",
    "plt.plot(correlacoes.index, correlacoes.values, marker='o', linestyle='-', color='b', )\n",
    "\n",
    "for i, txt in enumerate(correlacoes.values):\n",
    "  plt.text(correlacoes.index[i], correlacoes.values[i], f'{txt:.2f}', ha='right', va='bottom', fontsize=10, color='black')\n",
    "\n",
    "plt.xticks(rotation=45)\n",
    "plt.xlabel('Atributos')\n",
    "plt.ylabel('Coeficiente')\n",
    "plt.title('Correlação com TEA')\n",
    "plt.show()"
   ]
  },
  {
   "cell_type": "code",
   "execution_count": 14,
   "id": "00559180",
   "metadata": {},
   "outputs": [
    {
     "name": "stdout",
     "output_type": "stream",
     "text": [
      "autism\n",
      "0    512\n",
      "1    189\n",
      "Name: count, dtype: int64\n"
     ]
    }
   ],
   "source": [
    "# Balanceamento dos dados\n",
    "print(y.value_counts())"
   ]
  },
  {
   "cell_type": "markdown",
   "id": "dba8a6ab-c614-47bf-b8de-058447f62cc6",
   "metadata": {},
   "source": [
    "### Dividindo os dados em conjuntos de treinamento e teste "
   ]
  },
  {
   "cell_type": "code",
   "execution_count": 15,
   "id": "c481c8df",
   "metadata": {},
   "outputs": [],
   "source": [
    "X_train, X_test, y_train, y_test = train_test_split(X, y, test_size=0.2, random_state=42)\n",
    "y = y.values.ravel()\n",
    "y_train = y_train.values.ravel()\n",
    "y_test = y_test.values.ravel()"
   ]
  },
  {
   "cell_type": "markdown",
   "id": "4b13ed0a",
   "metadata": {},
   "source": [
    "# Treinamento dos modelos"
   ]
  },
  {
   "cell_type": "markdown",
   "id": "0a298a8f-7cae-409f-9f61-0fffbe3fa403",
   "metadata": {},
   "source": [
    "### Árvore de Decisão"
   ]
  },
  {
   "cell_type": "code",
   "execution_count": 16,
   "id": "c66ce1f3",
   "metadata": {},
   "outputs": [
    {
     "name": "stdout",
     "output_type": "stream",
     "text": [
      "{'criterion': 'gini', 'max_depth': 9, 'max_features': 'sqrt', 'min_samples_leaf': 5, 'min_samples_split': 4}\n"
     ]
    }
   ],
   "source": [
    "# Otimizando os hiperparâmetros\n",
    "peso_classe_0 = len(y_train) / sum(y_train == 0)\n",
    "peso_classe_1 = len(y_train) / sum(y_train == 1)\n",
    "model = DecisionTreeClassifier(class_weight={0: peso_classe_0, 1: peso_classe_1})\n",
    "\n",
    "parameters = {\n",
    "\t'criterion': [\"gini\", \"entropy\"],\n",
    "\t'max_depth': [8, 9, 10],\n",
    "\t'max_features': [\"sqrt\", \"log2\"],\n",
    "\t'min_samples_split': [4, 5, 6],\n",
    "\t'min_samples_leaf': [4, 5, 6],\n",
    "}\n",
    "\n",
    "skf = StratifiedKFold(n_splits=5, shuffle=True, random_state=42)\n",
    "grid_search = GridSearchCV(model, parameters, cv=skf, scoring=\"f1\", n_jobs=-1)\n",
    "grid_search.fit(X_train, y_train)\n",
    "\n",
    "print(grid_search.best_params_)\n",
    "      "
   ]
  },
  {
   "cell_type": "code",
   "execution_count": 17,
   "id": "7405301d",
   "metadata": {},
   "outputs": [
    {
     "name": "stdout",
     "output_type": "stream",
     "text": [
      "\n",
      "Acurácia: 0.8794326241134752\n",
      "\n",
      "Relatório de Classificação:\n",
      "\n",
      "              precision    recall  f1-score   support\n",
      "\n",
      "           0       0.94      0.89      0.91        98\n",
      "           1       0.77      0.86      0.81        43\n",
      "\n",
      "    accuracy                           0.88       141\n",
      "   macro avg       0.85      0.87      0.86       141\n",
      "weighted avg       0.89      0.88      0.88       141\n",
      "\n",
      "Área sob a Curva ROC:  0.9343853820598007\n",
      "\n",
      "F1-Score médio na validação cruzada: 0.8098759018946418\n",
      "\n",
      "Precisão média na validação cruzada: 0.750784929356358\n",
      "\n",
      "Recall médio na validação cruzada: 0.8832147937411096\n"
     ]
    }
   ],
   "source": [
    "# Treinando o modelo\n",
    "dt = DecisionTreeClassifier(\n",
    "  class_weight={0: peso_classe_0, 1: peso_classe_1},\n",
    "\tcriterion=\"entropy\",        \n",
    "\tmax_depth=10,\n",
    "\tmax_features=\"sqrt\",   \n",
    "\tmin_samples_leaf=4,        \n",
    "\tmin_samples_split=5,      \n",
    "\trandom_state=42       \n",
    ")\n",
    "\n",
    "dt.fit(X_train, y_train)\n",
    "\n",
    "y_pred = dt.predict(X_test)\n",
    "\n",
    "# Acurácia\n",
    "print(\"\\nAcurácia:\", accuracy_score(y_test, y_pred))\n",
    "\n",
    "# Relatório detalhado\n",
    "print(\"\\nRelatório de Classificação:\\n\")\n",
    "print(classification_report(y_test, y_pred))\n",
    "\n",
    "# Calcular a Curva ROC\n",
    "y_prob = dt.predict_proba(X_test)[:, 1] \n",
    "fpr, tpr, thresholds = roc_curve(y_test, y_prob)\n",
    "roc_auc = auc(fpr, tpr)\n",
    "print(\"Área sob a Curva ROC: \", roc_auc)\n",
    "\n",
    "scores = cross_val_score(dt, X, y, cv=skf, scoring=\"f1\")\n",
    "print(\"\\nF1-Score médio na validação cruzada:\", scores.mean())\n",
    "\n",
    "scores = cross_val_score(dt, X, y, cv=skf, scoring=\"precision\")\n",
    "print(\"\\nPrecisão média na validação cruzada:\", scores.mean())\n",
    "\n",
    "scores = cross_val_score(dt, X, y, cv=skf, scoring=\"recall\")\n",
    "print(\"\\nRecall médio na validação cruzada:\", scores.mean())"
   ]
  },
  {
   "cell_type": "code",
   "execution_count": 18,
   "id": "ff8584d3-3dc4-4117-8d3a-5fb7ee9f8be4",
   "metadata": {},
   "outputs": [
    {
     "data": {
      "text/plain": [
       "<sklearn.metrics._plot.confusion_matrix.ConfusionMatrixDisplay at 0x75378e13f200>"
      ]
     },
     "execution_count": 18,
     "metadata": {},
     "output_type": "execute_result"
    },
    {
     "data": {
      "image/png": "[encoded data removed]",
      "text/plain": [
       "<Figure size 640x480 with 2 Axes>"
      ]
     },
     "metadata": {},
     "output_type": "display_data"
    }
   ],
   "source": [
    "# Matriz confusão\n",
    "cm = confusion_matrix(y_test, y_pred)\n",
    "disp = ConfusionMatrixDisplay(confusion_matrix=cm)\n",
    "disp.plot(xticks_rotation='horizontal')"
   ]
  },
  {
   "cell_type": "markdown",
   "id": "757447d5",
   "metadata": {},
   "source": [
    "### XGBoost"
   ]
  },
  {
   "cell_type": "code",
   "execution_count": 19,
   "id": "47e32719",
   "metadata": {},
   "outputs": [
    {
     "name": "stdout",
     "output_type": "stream",
     "text": [
      "{'learning_rate': 0.1, 'max_depth': 8, 'min_child_weight': 5, 'n_estimators': 200, 'random_state': 30, 'subsample': 0.7}\n"
     ]
    }
   ],
   "source": [
    "# Otimizando hiperparâmetros\n",
    "scale_pos_weight = sum(y_train == 0) / sum(y_train == 1)\n",
    "model = XGBClassifier(scale_pos_weight=scale_pos_weight)\n",
    "\n",
    "parameters = {\n",
    "\t'n_estimators': [100, 200, 300], \n",
    "\t'learning_rate': [0.01, 0.1], \n",
    "\t'max_depth': [8, 9, 10], \n",
    "\t'subsample': [0.7, 0.8, 0.9],\n",
    "\t'min_child_weight': [5],\n",
    "\t'random_state': [30, 42]\n",
    "}\n",
    "\n",
    "grid_search = GridSearchCV(model, parameters, cv=skf, scoring=\"f1\", n_jobs=-1)\n",
    "grid_search.fit(X_train, y_train)\n",
    "\n",
    "print(grid_search.best_params_)"
   ]
  },
  {
   "cell_type": "code",
   "execution_count": 20,
   "id": "52397ac4",
   "metadata": {},
   "outputs": [
    {
     "name": "stdout",
     "output_type": "stream",
     "text": [
      "\n",
      "Acurácia: 0.9716312056737588\n",
      "\n",
      "Relatório de Classificação:\n",
      "\n",
      "              precision    recall  f1-score   support\n",
      "\n",
      "           0       1.00      0.96      0.98        98\n",
      "           1       0.91      1.00      0.96        43\n",
      "\n",
      "    accuracy                           0.97       141\n",
      "   macro avg       0.96      0.98      0.97       141\n",
      "weighted avg       0.97      0.97      0.97       141\n",
      "\n",
      "Área sob a Curva ROC:  0.9997626957759849\n",
      "\n",
      "F1-Score médio na validação cruzada: 0.9692905584311313\n",
      "\n",
      "Precisão média na validação cruzada: 0.940475297060663\n",
      "\n",
      "Recall médio na validação cruzada: 1.0\n"
     ]
    }
   ],
   "source": [
    "# Treinando o modelo\n",
    "xgboost = XGBClassifier(\n",
    "  scale_pos_weight=scale_pos_weight,\n",
    "  n_estimators=200, \n",
    "  learning_rate=0.1, \n",
    "  max_depth=8, \n",
    "  subsample=0.7,\n",
    "  min_child_weight=5,\n",
    "  random_state=30\n",
    ")\n",
    "\n",
    "xgboost.fit(X_train, y_train)\n",
    "y_pred = xgboost.predict(X_test)\n",
    "\n",
    "# Acurácia\n",
    "print(\"\\nAcurácia:\", accuracy_score(y_test, y_pred))\n",
    "\n",
    "# Relatório detalhado\n",
    "print(\"\\nRelatório de Classificação:\\n\")\n",
    "print(classification_report(y_test, y_pred))\n",
    "\n",
    "# Calcular a Curva ROC\n",
    "y_prob = xgboost.predict_proba(X_test)[:, 1] \n",
    "fpr, tpr, thresholds = roc_curve(y_test, y_prob)\n",
    "roc_auc = auc(fpr, tpr)\n",
    "print(\"Área sob a Curva ROC: \", roc_auc)\n",
    "\n",
    "scores = cross_val_score(xgboost, X, y, cv=skf, scoring=\"f1\")\n",
    "print(\"\\nF1-Score médio na validação cruzada:\", scores.mean())\n",
    "\n",
    "scores = cross_val_score(xgboost, X, y, cv=skf, scoring=\"precision\")\n",
    "print(\"\\nPrecisão média na validação cruzada:\", scores.mean())\n",
    "\n",
    "scores = cross_val_score(xgboost, X, y, cv=skf, scoring=\"recall\")\n",
    "print(\"\\nRecall médio na validação cruzada:\", scores.mean())"
   ]
  },
  {
   "cell_type": "code",
   "execution_count": 21,
   "id": "94ce93f4",
   "metadata": {},
   "outputs": [
    {
     "data": {
      "text/plain": [
       "<sklearn.metrics._plot.confusion_matrix.ConfusionMatrixDisplay at 0x75376876bfb0>"
      ]
     },
     "execution_count": 21,
     "metadata": {},
     "output_type": "execute_result"
    },
    {
     "data": {
      "image/png": "[encoded data removed]",
      "text/plain": [
       "<Figure size 640x480 with 2 Axes>"
      ]
     },
     "metadata": {},
     "output_type": "display_data"
    }
   ],
   "source": [
    "# Matriz confusão\n",
    "cm = confusion_matrix(y_test, y_pred)\n",
    "disp = ConfusionMatrixDisplay(confusion_matrix=cm)\n",
    "disp.plot(xticks_rotation='horizontal')"
   ]
  },
  {
   "cell_type": "markdown",
   "id": "c5119cc5",
   "metadata": {},
   "source": [
    "### Random Forest"
   ]
  },
  {
   "cell_type": "code",
   "execution_count": null,
   "id": "f569b4c4",
   "metadata": {},
   "outputs": [],
   "source": [
    "# Otimizando os hiperparâmetros\n",
    "model = RandomForestClassifier(class_weight={0: peso_classe_0, 1: peso_classe_1})\n",
    "\n",
    "parameters = {\n",
    "\t'n_estimators': [100, 200, 300],\n",
    "\t'criterion': [\"gini\", \"entropy\"],\n",
    "\t'max_depth': [8, 9, 10],\n",
    "\t'max_features': [\"sqrt\", \"log2\"],\n",
    "\t'min_samples_split': [4, 5, 6],\n",
    "\t'min_samples_leaf': [4, 5, 6],\n",
    "  'random_state': [30, 42]\n",
    "}\n",
    "\n",
    "grid_search = GridSearchCV(model, parameters, cv=skf, scoring=\"f1\", n_jobs=-1)\n",
    "grid_search.fit(X_train, y_train)\n",
    "\n",
    "print(grid_search.best_params_)"
   ]
  },
  {
   "cell_type": "code",
   "execution_count": 23,
   "id": "19f4c024",
   "metadata": {},
   "outputs": [
    {
     "name": "stdout",
     "output_type": "stream",
     "text": [
      "\n",
      "Acurácia: 0.9574468085106383\n",
      "\n",
      "Relatório de Classificação:\n",
      "\n",
      "              precision    recall  f1-score   support\n",
      "\n",
      "           0       0.99      0.95      0.97        98\n",
      "           1       0.89      0.98      0.93        43\n",
      "\n",
      "    accuracy                           0.96       141\n",
      "   macro avg       0.94      0.96      0.95       141\n",
      "weighted avg       0.96      0.96      0.96       141\n",
      "\n",
      "Área sob a Curva ROC:  0.9907451352634077\n",
      "\n",
      "F1-Score médio na validação cruzada: 0.9134607778510218\n",
      "\n",
      "Precisão média na validação cruzada: 0.8744881244881245\n",
      "\n",
      "Recall médio na validação cruzada: 0.9571834992887626\n"
     ]
    }
   ],
   "source": [
    "# Treinando o modelo\n",
    "rf = RandomForestClassifier(\n",
    "  class_weight={0: peso_classe_0, 1: peso_classe_1},\n",
    "  n_estimators=200,\n",
    "  criterion=\"entropy\",\n",
    "  max_features=\"sqrt\",\n",
    "  min_samples_split=4,\n",
    "  min_samples_leaf=4, \n",
    "  max_depth=8,\n",
    "  random_state=30\n",
    ")\n",
    "rf.fit(X_train, y_train)\n",
    "y_pred = rf.predict(X_test)\n",
    "\n",
    "# Acurácia\n",
    "print(\"\\nAcurácia:\", accuracy_score(y_test, y_pred))\n",
    "\n",
    "# Relatório detalhado\n",
    "print(\"\\nRelatório de Classificação:\\n\")\n",
    "print(classification_report(y_test, y_pred))\n",
    "\n",
    "# Calcular a Curva ROC\n",
    "y_prob = rf.predict_proba(X_test)[:, 1] \n",
    "fpr, tpr, thresholds = roc_curve(y_test, y_prob)\n",
    "roc_auc = auc(fpr, tpr)\n",
    "print(\"Área sob a Curva ROC: \", roc_auc)\n",
    "\n",
    "scores = cross_val_score(rf, X, y, cv=skf, scoring=\"f1\")\n",
    "print(\"\\nF1-Score médio na validação cruzada:\", scores.mean())\n",
    "\n",
    "scores = cross_val_score(rf, X, y, cv=skf, scoring=\"precision\")\n",
    "print(\"\\nPrecisão média na validação cruzada:\", scores.mean())\n",
    "\n",
    "scores = cross_val_score(rf, X, y, cv=skf, scoring=\"recall\")\n",
    "print(\"\\nRecall médio na validação cruzada:\", scores.mean())"
   ]
  },
  {
   "cell_type": "code",
   "execution_count": 24,
   "id": "c914872a-31cd-4256-bb90-9165a5cb3536",
   "metadata": {},
   "outputs": [
    {
     "data": {
      "text/plain": [
       "<sklearn.metrics._plot.confusion_matrix.ConfusionMatrixDisplay at 0x7537979df260>"
      ]
     },
     "execution_count": 24,
     "metadata": {},
     "output_type": "execute_result"
    },
    {
     "data": {
      "image/png": "[encoded data removed]",
      "text/plain": [
       "<Figure size 640x480 with 2 Axes>"
      ]
     },
     "metadata": {},
     "output_type": "display_data"
    }
   ],
   "source": [
    "# Matriz confusão\n",
    "cm = confusion_matrix(y_test, y_pred)\n",
    "disp = ConfusionMatrixDisplay(confusion_matrix=cm)\n",
    "disp.plot(xticks_rotation='horizontal')"
   ]
  },
  {
   "cell_type": "markdown",
   "id": "0163dd6e",
   "metadata": {},
   "source": [
    "# Classificando os resultados"
   ]
  },
  {
   "cell_type": "code",
   "execution_count": 26,
   "id": "dd5202a5",
   "metadata": {},
   "outputs": [
    {
     "name": "stdout",
     "output_type": "stream",
     "text": [
      "A01: 0.0915\n",
      "A02: 0.0334\n",
      "A03: 0.0600\n",
      "A04: 0.0804\n",
      "A05: 0.1613\n",
      "A06: 0.1130\n",
      "A07: 0.0394\n",
      "A08: 0.0423\n",
      "A09: 0.2102\n",
      "A10: 0.0506\n",
      "idade: 0.0091\n",
      "gênero: 0.0114\n",
      "icterícia: 0.0000\n",
      "histórico_familiar: 0.0972\n"
     ]
    },
    {
     "data": {
      "image/png": "[encoded data removed]",
      "text/plain": [
       "<Figure size 640x480 with 1 Axes>"
      ]
     },
     "metadata": {},
     "output_type": "display_data"
    }
   ],
   "source": [
    "# Definindo quais features mais contribuem para a predição correta\n",
    "importances = xgboost.feature_importances_\n",
    "for feature, importance in zip(X.columns, importances):\n",
    "    print(f\"{feature}: {importance:.4f}\")\n",
    "    \n",
    "colunas_desejadas = [ 'A01', 'A02', 'A03', 'A04', 'A05', 'A06', 'A07', 'A08', 'A09', 'A10' ]\n",
    "\n",
    "importancias_filtradas = [importances[X.columns.get_loc(col)] for col in colunas_desejadas]\n",
    "\n",
    "plt.plot(colunas_desejadas, importancias_filtradas, marker='o', linestyle='-', color='b', )\n",
    "\n",
    "for i, txt in enumerate(importancias_filtradas):\n",
    "    plt.text(colunas_desejadas[i], importancias_filtradas[i], f'{txt:.2f}', ha='right', va='bottom', fontsize=10, color='black')\n",
    "\n",
    "plt.xticks(rotation=45)\n",
    "plt.xlabel('Atributos')\n",
    "plt.ylabel('Coeficiente')\n",
    "plt.title('Importância de Gini')\n",
    "plt.show()"
   ]
  }
 ],
 "metadata": {
  "kernelspec": {
   "display_name": "Python 3",
   "language": "python",
   "name": "python3"
  },
  "language_info": {
   "codemirror_mode": {
    "name": "ipython",
    "version": 3
   },
   "file_extension": ".py",
   "mimetype": "text/x-python",
   "name": "python",
   "nbconvert_exporter": "python",
   "pygments_lexer": "ipython3",
   "version": "3.12.3"
  }
 },
 "nbformat": 4,
 "nbformat_minor": 5
}
